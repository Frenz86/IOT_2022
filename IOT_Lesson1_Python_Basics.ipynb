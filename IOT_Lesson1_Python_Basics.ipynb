{
  "nbformat": 4,
  "nbformat_minor": 0,
  "metadata": {
    "colab": {
      "provenance": [],
      "collapsed_sections": [],
      "authorship_tag": "ABX9TyNd//PJ0SV4XqOZG4Rldrn0",
      "include_colab_link": true
    },
    "kernelspec": {
      "name": "python3",
      "display_name": "Python 3"
    },
    "language_info": {
      "name": "python"
    }
  },
  "cells": [
    {
      "cell_type": "markdown",
      "metadata": {
        "id": "view-in-github",
        "colab_type": "text"
      },
      "source": [
        "<a href=\"https://colab.research.google.com/github/visiont3lab/IOT_2022/blob/main/IOT_Lesson1_Python_Basics.ipynb\" target=\"_parent\"><img src=\"https://colab.research.google.com/assets/colab-badge.svg\" alt=\"Open In Colab\"/></a>"
      ]
    },
    {
      "cell_type": "markdown",
      "source": [
        "## Python Basics"
      ],
      "metadata": {
        "id": "q8TvhO3kJOJ8"
      }
    },
    {
      "cell_type": "markdown",
      "source": [
        " ### Array"
      ],
      "metadata": {
        "id": "Jya2NvxuMIUe"
      }
    },
    {
      "cell_type": "code",
      "source": [
        "# Matematica\n",
        "# array hanno una shape\n",
        "import numpy as np\n",
        "t = np.array([[4],[4],[5]])*10 - 5\n",
        "a = np.array([\n",
        "    [3,4,5],\n",
        "    [3,7,9]\n",
        "    ], dtype=float)\n",
        "b = np.array([\n",
        "    [3,4],\n",
        "    [3,7],\n",
        "    [3,4],\n",
        "    ], dtype=float)\n",
        "c = np.matmul(a,b)\n",
        "print(f\"Shape: {t.shape}\")\n",
        "print(f\"Shape a: {a.shape}\")\n",
        "print(f\"Shape c: {c.shape}\")"
      ],
      "metadata": {
        "colab": {
          "base_uri": "https://localhost:8080/"
        },
        "id": "7723CUlRJb3C",
        "outputId": "ce56d72d-2c21-4a67-ae04-502d65a9819b"
      },
      "execution_count": 61,
      "outputs": [
        {
          "output_type": "stream",
          "name": "stdout",
          "text": [
            "Shape: (3, 1)\n",
            "Shape a: (2, 3)\n",
            "Shape c: (2, 2)\n"
          ]
        }
      ]
    },
    {
      "cell_type": "markdown",
      "source": [
        "### Liste"
      ],
      "metadata": {
        "id": "blsuf2EcMKNZ"
      }
    },
    {
      "cell_type": "code",
      "source": [
        "# Liste\n",
        "# Non hanno una dimensione fissa ma hanno una len\n",
        "# Le liste sono iterabile\n",
        "# Io posso aggiungere un elemento in fondo alla lista\n",
        "k = [\"ciao\",3,[4,5]]\n",
        "meta = int(len(k)/2)\n",
        "k.append(67) # in fondo alla lista\n",
        "k.insert(0,[6,[\"hello\"]]) # inserire un element in cima alla lista\n",
        "k.insert(meta, [65])\n",
        "for el in k:\n",
        "    print(el)\n"
      ],
      "metadata": {
        "colab": {
          "base_uri": "https://localhost:8080/"
        },
        "id": "sQ_SEwk3K5IK",
        "outputId": "4597e015-0b58-4fd6-c864-5839d624cc36"
      },
      "execution_count": 71,
      "outputs": [
        {
          "output_type": "stream",
          "name": "stdout",
          "text": [
            "[6, ['hello']]\n",
            "[65]\n",
            "ciao\n",
            "3\n",
            "[4, 5]\n",
            "67\n"
          ]
        }
      ]
    },
    {
      "cell_type": "code",
      "source": [
        "# Accedere a una lista\n",
        "l = [3,4,5,6,7]\n",
        "print(l[3]) # si contano da 0 a N\n",
        "print(l[-2]) # elemento finale"
      ],
      "metadata": {
        "colab": {
          "base_uri": "https://localhost:8080/"
        },
        "id": "naTk8KQaRQ9q",
        "outputId": "ad30c7f1-4290-4da0-a85c-b0d245ee0ba3"
      },
      "execution_count": 103,
      "outputs": [
        {
          "output_type": "stream",
          "name": "stdout",
          "text": [
            "6\n",
            "6\n"
          ]
        }
      ]
    },
    {
      "cell_type": "markdown",
      "source": [
        "### Dizionari"
      ],
      "metadata": {
        "id": "4jKH_O3-MN9s"
      }
    },
    {
      "cell_type": "code",
      "source": [
        "# Dizionari ha i nomi delle colonne (key) univoci\n",
        "# Il foglio excel ha come colonne lo stesso numero di righe\n",
        "d = {\n",
        "    \"Nome\": [5,\"ciao\"],\n",
        "    \"Surname\" :[4,7]\n",
        "}\n",
        "d[\"Nome\"].append(\"hello\")\n",
        "d[\"Surname\"].append(6)\n",
        "\n",
        "# Stampa tutti i valori contenuti nella colonna nome\n",
        "print(d[\"Nome\"])\n",
        "# Stampa tutti i valori contenuti nella colonna cognome\n",
        "print(d[\"Surname\"])\n"
      ],
      "metadata": {
        "colab": {
          "base_uri": "https://localhost:8080/"
        },
        "id": "2D-AkDsiMRaz",
        "outputId": "c804604e-6863-485b-8e49-3903055834fd"
      },
      "execution_count": 79,
      "outputs": [
        {
          "output_type": "stream",
          "name": "stdout",
          "text": [
            "[5, 'ciao', 'hello']\n",
            "[4, 7, 6]\n"
          ]
        }
      ]
    },
    {
      "cell_type": "markdown",
      "source": [
        "## Funzione"
      ],
      "metadata": {
        "id": "ikXMjzPjNfEf"
      }
    },
    {
      "cell_type": "code",
      "source": [
        "import numpy as np\n",
        "lista = [4.3232,6.2323232,70.34343,80.34343]\n",
        "# Corvertito la lista ad array\n",
        "l = np.array(lista)\n",
        "# Approssimato\n",
        "l = np.round(l,1)\n",
        "# Convertito a lista\n",
        "l = list(l)\n",
        "# Stampato\n",
        "print(l)\n",
        "# 4.3 -- 6.2 -- 70.3 -- 80.3"
      ],
      "metadata": {
        "colab": {
          "base_uri": "https://localhost:8080/"
        },
        "id": "dGunrJleNeho",
        "outputId": "e11e1382-17df-4f01-d0e7-d967cb2b2008"
      },
      "execution_count": 82,
      "outputs": [
        {
          "output_type": "stream",
          "name": "stdout",
          "text": [
            "[4.3, 6.2, 70.3, 80.3]\n"
          ]
        }
      ]
    },
    {
      "cell_type": "code",
      "source": [
        "def stampa(l, sep, approx):\n",
        "    l = np.array(lista)\n",
        "    l = np.round(l,approx)\n",
        "    l = list(l)\n",
        "    s = \"\"\n",
        "    for el in l:\n",
        "        s = s + f\"{el} \" + sep\n",
        "    #print(s)\n",
        "    # Create readme.txt file\n",
        "    with open('readme.txt', 'w') as f:\n",
        "        f.write(s)\n",
        "\n",
        "# Le funzioni vanno chiamate\n",
        "stampa(l, sep=\" --- \", approx=4)\n",
        "stampa(l, sep=\" -!- \", approx=2)\n"
      ],
      "metadata": {
        "id": "EsL05Uz4OYUL"
      },
      "execution_count": 95,
      "outputs": []
    },
    {
      "cell_type": "markdown",
      "source": [
        "## For Loop"
      ],
      "metadata": {
        "id": "b4BYgqY1QsdY"
      }
    },
    {
      "cell_type": "code",
      "source": [
        "# Accedere elementi array o liste\n",
        "l = [3,4,5,6,7]\n",
        "a = np.array(l)\n",
        "for i in range(0,5,2):\n",
        "    print(l[i], a[i])"
      ],
      "metadata": {
        "colab": {
          "base_uri": "https://localhost:8080/"
        },
        "id": "aNXC_VMoQ0UV",
        "outputId": "259b79ca-a3f6-43a0-a18d-72357be5df47"
      },
      "execution_count": 106,
      "outputs": [
        {
          "output_type": "stream",
          "name": "stdout",
          "text": [
            "3 3\n",
            "5 5\n",
            "7 7\n"
          ]
        }
      ]
    },
    {
      "cell_type": "code",
      "source": [
        "# Le liste sono iterabile\n",
        "for el in l:\n",
        "    print(el)"
      ],
      "metadata": {
        "colab": {
          "base_uri": "https://localhost:8080/"
        },
        "id": "wzgkYtnmR7Wi",
        "outputId": "e9f43924-10ca-4928-d42f-753174df041d"
      },
      "execution_count": 107,
      "outputs": [
        {
          "output_type": "stream",
          "name": "stdout",
          "text": [
            "3\n",
            "4\n",
            "5\n",
            "6\n",
            "7\n"
          ]
        }
      ]
    },
    {
      "cell_type": "markdown",
      "source": [
        "## Covid example"
      ],
      "metadata": {
        "id": "hCNVx3H-Sdp-"
      }
    },
    {
      "cell_type": "code",
      "source": [
        "import pandas as pd\n",
        "# df è un dizionario\n",
        "df = pd.read_csv(\"https://raw.githubusercontent.com/pcm-dpc/COVID-19/master/dati-andamento-nazionale/dpc-covid19-ita-andamento-nazionale.csv\")\n",
        "totale_positivi = df[\"totale_positivi\"].values\n",
        "display(df.head())\n",
        "# Variazione totale positivi tra ieri ed ogggi\n",
        "var = totale_positivi[-2] - totale_positivi[-1]\n",
        "print(f\"Var: {var}\")\n",
        "\n",
        "# Esercizio provare a emulare i dati di questo sito\n",
        "# Github https://github.com/pcm-dpc/COVID-19\n",
        "# https://opendatadpc.maps.arcgis.com/apps/dashboards/b0c68bce2cce478eaac82fe38d4138b1\n",
        "\n",
        "# --> attuali positivi ?\n",
        "# --> deceduti ?\n",
        "# --> dimessi guariti ?\n",
        "# --> totale casi ?\n",
        "# Scrivendoli in file di testo\n"
      ],
      "metadata": {
        "id": "xCgRUfewShKw"
      },
      "execution_count": null,
      "outputs": []
    },
    {
      "cell_type": "markdown",
      "source": [
        "## Exercise Generate N random names, surnames eta and write to excel"
      ],
      "metadata": {
        "id": "6JyyfL0ZJRMh"
      }
    },
    {
      "cell_type": "code",
      "source": [
        "!python3 --version"
      ],
      "metadata": {
        "colab": {
          "base_uri": "https://localhost:8080/"
        },
        "id": "FNz0Ji-bClcD",
        "outputId": "5769241f-d387-4ca2-8891-17e22dff9e91"
      },
      "execution_count": 15,
      "outputs": [
        {
          "output_type": "stream",
          "name": "stdout",
          "text": [
            "Python 3.7.14\n"
          ]
        }
      ]
    },
    {
      "cell_type": "code",
      "source": [
        "!pip install names"
      ],
      "metadata": {
        "id": "ebQ6oG2gBbkD"
      },
      "execution_count": null,
      "outputs": []
    },
    {
      "cell_type": "code",
      "source": [
        "import names\n",
        "import numpy \n",
        "import pandas \n",
        "\n",
        "# Eta numero che va da 24-60\n",
        "for i in range(0,1000):\n",
        "    eta = numpy.random.randint(24,60,1)[0]\n",
        "    s = f\"{i} Name: {names.get_first_name()}  Surname: {names.get_last_name()} Eta: {eta}\" \n",
        "    print(s)"
      ],
      "metadata": {
        "id": "INSVKH7HAru6"
      },
      "execution_count": null,
      "outputs": []
    },
    {
      "cell_type": "code",
      "source": [
        "import names\n",
        "import numpy \n",
        "import pandas \n",
        "\n",
        "list_names = []\n",
        "list_surnames = []\n",
        "list_eta = []\n",
        "# Eta numero che va da 24-60\n",
        "for i in range(0,10000):\n",
        "    eta = numpy.random.randint(24,60,1)[0]\n",
        "    n = names.get_first_name()\n",
        "    s = names.get_last_name()\n",
        "    list_names.append(n)\n",
        "    list_surnames.append(s)\n",
        "    list_eta.append(eta)\n"
      ],
      "metadata": {
        "id": "eIYDVtpHGV1M"
      },
      "execution_count": 45,
      "outputs": []
    },
    {
      "cell_type": "code",
      "source": [
        "f = {\n",
        "    \"Name\": list_names,\n",
        "     \"Surname\" : list_surnames,\n",
        "     \"Eta\": list_eta,\n",
        "}\n",
        "df = pandas.DataFrame(f)\n",
        "df.to_excel(\"Test.xlsx\", index=None)\n",
        "df.to_csv(\"Test.csv\", index=None)\n"
      ],
      "metadata": {
        "id": "usY_jJM2EPYt"
      },
      "execution_count": 46,
      "outputs": []
    },
    {
      "cell_type": "code",
      "source": [],
      "metadata": {
        "id": "TAHAzyvm_qVh"
      },
      "execution_count": null,
      "outputs": []
    }
  ]
}